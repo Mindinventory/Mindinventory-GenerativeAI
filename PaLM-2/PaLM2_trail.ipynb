{
 "cells": [
  {
   "cell_type": "code",
   "execution_count": 1,
   "metadata": {
    "id": "L6N-YWnZulb-"
   },
   "outputs": [],
   "source": [
    "!pip install -q google-generativeai"
   ]
  },
  {
   "cell_type": "code",
   "execution_count": 2,
   "metadata": {
    "id": "CPHglvPzuq6t"
   },
   "outputs": [],
   "source": [
    "import google.generativeai as palm"
   ]
  },
  {
   "cell_type": "code",
   "execution_count": 3,
   "metadata": {
    "id": "jEqeMlbAu0Cf"
   },
   "outputs": [],
   "source": [
    "palm.configure(api_key= \"GOOGLE_API_KEY\")"
   ]
  },
  {
   "cell_type": "code",
   "execution_count": 4,
   "metadata": {
    "colab": {
     "base_uri": "https://localhost:8080/",
     "height": 34
    },
    "id": "pKjDre0ouPWA",
    "outputId": "c1392f08-2aa9-4640-b9ad-8d14436f87a9"
   },
   "outputs": [
    {
     "name": "stdout",
     "output_type": "stream",
     "text": [
      "Model Name: models/text-bison-001\n"
     ]
    }
   ],
   "source": [
    "models= [n for n in palm.list_models() if \"generateText\" in n.supported_generation_methods]\n",
    "\n",
    "for i in models:\n",
    "  print(\"Model Name:\", i.name)"
   ]
  },
  {
   "cell_type": "code",
   "execution_count": 5,
   "metadata": {
    "id": "xYiGMLGbvSgk"
   },
   "outputs": [],
   "source": [
    "model= models[0].name"
   ]
  },
  {
   "cell_type": "code",
   "execution_count": 6,
   "metadata": {
    "id": "z9ZsocIqvy4K"
   },
   "outputs": [],
   "source": [
    "prompt= \"\"\"\n",
    "Summarize this paragraph and detail some relevant context.\n",
    "\n",
    "Text: \"Johannes Gutenberg (1398 – 1468) was a German goldsmith and publisher who introduced printing to Europe. His introduction of mechanical movable type printing to Europe started the Printing Revolution and is widely regarded as the most important event of the modern period. It played a key role in the scientific revolution and laid the basis for the modern knowledge-based economy and the spread of learning to the masses.\n",
    "\n",
    "Gutenberg many contributions to printing are: the invention of a process for mass-producing movable type, the use of oil-based ink for printing books, adjustable molds, and the use of a wooden printing press. His truly epochal invention was the combination of these elements into a practical system that allowed the mass production of printed books and was economically viable for printers and readers alike.\n",
    "\n",
    "In Renaissance Europe, the arrival of mechanical movable type printing introduced the era of mass communication which permanently altered the structure of society. The relatively unrestricted circulation of information—including revolutionary ideas—transcended borders, and captured the masses in the Reformation. The sharp increase in literacy broke the monopoly of the literate elite on education and learning and bolstered the emerging middle class.\"\n",
    "\n",
    "Summary: The German Johannes Gutenberg introduced printing in Europe. His invention had a decisive contribution in spread of mass-learning and in building the basis of the modern society.\n",
    "\n",
    "Gutenberg major invention was a practical system permitting the mass production of printed books. The printed books allowed open circulation of information, and prepared the evolution of society from to the contemporary knowledge-based economy.\n",
    "\n",
    "Text: \"Twenty three years ago, the alien ceph invaded our world. We stopped them. I stopped them. But the CELL corporation seized the opportunity, stepping into the power vacuum, quickly growing in size and influence to the brink of world domination. CELL took us all by surprise...even me. They call me Prophet...and I'm the only one who knows what's coming.\n",
    "\n",
    "CELL are not the real threat to our world. The most powerful alien--The Alpha Ceph--still lives. he showed me a glimpse of the future. He knows what drives me, what I believe. That being a good soldier comes down to one thing...to one single question. What are you prepared to sacrifice? Remember me.\n",
    "\n",
    "When they came to me with the nanosuit, I sacrificed Laurence Barnes, the man I was, to become Prophet. When my own flesh and blood held me back, I sacrificed that too. Replaced it, like a spare part. Victory costs. Every time, you pay a little more. I saw a glimpse of what's coming...and there was nothing left of me to stop it. When the greatest combat machine fails, what do we do then? What do I do?\"\n",
    "\n",
    "\"\"\""
   ]
  },
  {
   "cell_type": "code",
   "execution_count": 7,
   "metadata": {
    "id": "Z7kW-i8OvauL"
   },
   "outputs": [],
   "source": [
    "gen= palm.generate_text(\n",
    "    model= model,\n",
    "    prompt= prompt,\n",
    "    temperature= 0.4,\n",
    "    max_output_tokens= 800\n",
    ")"
   ]
  },
  {
   "cell_type": "code",
   "execution_count": 8,
   "metadata": {
    "colab": {
     "base_uri": "https://localhost:8080/"
    },
    "id": "te9d6_-ov8em",
    "outputId": "e770fd07-a8bd-48f9-9850-0389a7953c2f"
   },
   "outputs": [
    {
     "name": "stdout",
     "output_type": "stream",
     "text": [
      "Summary: 23 years ago, the alien ceph invaded Earth. The protagonist, Laurence Barnes, stopped them. But CELL corporation seized the opportunity and grew to the brink of world domination. The protagonist, now known as Prophet, knows that the most powerful alien, Alpha Ceph, still lives and will return. He sacrificed his humanity to become a powerful soldier, but he wonders what he will do when even that is not enough.\n"
     ]
    }
   ],
   "source": [
    "print(gen.result)"
   ]
  },
  {
   "cell_type": "code",
   "execution_count": 8,
   "metadata": {
    "id": "z1SrSgGuwBYD"
   },
   "outputs": [],
   "source": []
  }
 ],
 "metadata": {
  "accelerator": "GPU",
  "colab": {
   "gpuType": "T4",
   "provenance": []
  },
  "kernelspec": {
   "display_name": "Python 3 (ipykernel)",
   "language": "python",
   "name": "python3"
  },
  "language_info": {
   "codemirror_mode": {
    "name": "ipython",
    "version": 3
   },
   "file_extension": ".py",
   "mimetype": "text/x-python",
   "name": "python",
   "nbconvert_exporter": "python",
   "pygments_lexer": "ipython3",
   "version": "3.9.7"
  }
 },
 "nbformat": 4,
 "nbformat_minor": 1
}
