{
  "nbformat": 4,
  "nbformat_minor": 0,
  "metadata": {
    "colab": {
      "provenance": [],
      "gpuType": "T4"
    },
    "kernelspec": {
      "name": "python3",
      "display_name": "Python 3"
    },
    "language_info": {
      "name": "python"
    },
    "accelerator": "GPU"
  },
  "cells": [
    {
      "cell_type": "code",
      "execution_count": 1,
      "metadata": {
        "id": "caH1rLXYvJjE"
      },
      "outputs": [],
      "source": [
        "!pip install torch==2.1.0 \\\n",
        "            transformers==4.35.0 \\\n",
        "            causal-conv1d==1.0.0 \\\n",
        "            mamba-ssm==1.0.1 -q"
      ]
    },
    {
      "cell_type": "code",
      "source": [
        "import torch\n",
        "from transformers import AutoTokenizer, AutoModelForCausalLM\n",
        "from mamba_ssm.models.mixer_seq_simple import MambaLMHeadModel\n",
        "\n",
        "device= \"cuda:0\" if torch.cuda.is_available() else \"cpu\"\n",
        "model_name= \"clibrain/mamba-2.8b-instruct-openhermes\"\n",
        "chat_template_id= \"HuggingFaceH4/zephyr-7b-beta\"\n",
        "eos_token= \"<|endoftext|>\""
      ],
      "metadata": {
        "id": "U0eThZuqvuIt"
      },
      "execution_count": 2,
      "outputs": []
    },
    {
      "cell_type": "code",
      "source": [
        "tokenizer= AutoTokenizer.from_pretrained(model_name)\n",
        "tokenizer.eos_token= eos_token\n",
        "tokenizer.pad_token= tokenizer.eos_token\n",
        "tokenizer.chat_template= AutoTokenizer.from_pretrained(chat_template_id).chat_template\n",
        "\n",
        "model= MambaLMHeadModel.from_pretrained(\n",
        "    model_name,\n",
        "    device= device,\n",
        "    dtype= torch.float16\n",
        ")"
      ],
      "metadata": {
        "colab": {
          "base_uri": "https://localhost:8080/"
        },
        "id": "39EjGJm7wfAV",
        "outputId": "f4af4a00-cae9-43d5-df00-621f2645377e"
      },
      "execution_count": 3,
      "outputs": [
        {
          "output_type": "stream",
          "name": "stderr",
          "text": [
            "Special tokens have been added in the vocabulary, make sure the associated word embeddings are fine-tuned or trained.\n"
          ]
        }
      ]
    },
    {
      "cell_type": "code",
      "source": [
        "messages= []"
      ],
      "metadata": {
        "id": "dHigL3f4yNSG"
      },
      "execution_count": 4,
      "outputs": []
    },
    {
      "cell_type": "code",
      "source": [
        "def run():\n",
        "  input_ids= tokenizer.apply_chat_template(\n",
        "      messages, return_tensors= \"pt\", add_generation_prompt= True\n",
        "  ).to(device)\n",
        "\n",
        "  out= model.generate(\n",
        "      input_ids= input_ids,\n",
        "      max_length= 2048,\n",
        "      temperature= 0.9,\n",
        "      top_p= 0.3,\n",
        "      eos_token_id= tokenizer.eos_token_id\n",
        "  )\n",
        "\n",
        "  decoded= tokenizer.batch_decode(out)\n",
        "  response= (decoded[0].split(\"<|assistant|>\\n\")[-1].replace(eos_token, \"\"))\n",
        "  messages.append(dict(role= \"assistant\", content= response))\n",
        "  print(response)"
      ],
      "metadata": {
        "id": "Tmv-B79zyO9X"
      },
      "execution_count": 5,
      "outputs": []
    },
    {
      "cell_type": "code",
      "source": [
        "!echo /usr/lib64-nvidia/ >/etc/ld.so.conf.d/libcuda.conf; ldconfig"
      ],
      "metadata": {
        "colab": {
          "base_uri": "https://localhost:8080/"
        },
        "id": "RbHV_OnEzq9d",
        "outputId": "5e95c70b-99df-4a9c-ddfd-5e5d43ec8f68"
      },
      "execution_count": 6,
      "outputs": [
        {
          "output_type": "stream",
          "name": "stdout",
          "text": [
            "/sbin/ldconfig.real: /usr/local/lib/libtbbbind_2_0.so.3 is not a symbolic link\n",
            "\n",
            "/sbin/ldconfig.real: /usr/local/lib/libtbbmalloc_proxy.so.2 is not a symbolic link\n",
            "\n",
            "/sbin/ldconfig.real: /usr/local/lib/libtbbmalloc.so.2 is not a symbolic link\n",
            "\n",
            "/sbin/ldconfig.real: /usr/local/lib/libtbb.so.12 is not a symbolic link\n",
            "\n",
            "/sbin/ldconfig.real: /usr/local/lib/libtbbbind.so.3 is not a symbolic link\n",
            "\n",
            "/sbin/ldconfig.real: /usr/local/lib/libtbbbind_2_5.so.3 is not a symbolic link\n",
            "\n"
          ]
        }
      ]
    },
    {
      "cell_type": "code",
      "source": [
        "prompt= \"List down 10 rather strange yet true psychological facts about nature\"\n",
        "messages.append(dict(role= \"user\", content= prompt))\n",
        "\n",
        "run()"
      ],
      "metadata": {
        "colab": {
          "base_uri": "https://localhost:8080/"
        },
        "id": "aEI4B_OWxS8t",
        "outputId": "058d8d14-6b6a-45ea-e060-d9214e65453f"
      },
      "execution_count": 7,
      "outputs": [
        {
          "output_type": "stream",
          "name": "stdout",
          "text": [
            "1. The color of the sky can affect your mood: Studies have shown that exposure to blue light in the morning can increase feelings of happiness and positivity, while exposure to red light in the evening can increase feelings of sadness and stress.\n",
            "\n",
            "2. The sound of a waterfall can lower blood pressure: Studies have shown that the sound of a waterfall can reduce stress and anxiety, and can even lower blood pressure.\n",
            "\n",
            "3. The smell of pine trees can reduce stress: Studies have shown that exposure to pine scents can reduce stress and anxiety, and can even lower cortisol levels in the body.\n",
            "\n",
            "4. The taste of chocolate can affect mood: Studies have shown that eating chocolate can increase feelings of happiness and well-being, while eating non-chocolate treats can decrease happiness and increase feelings of sadness.\n",
            "\n",
            "5. The color of the sky can affect mood: Studies have shown that exposure to blue light in the morning can increase feelings of depression and sadness, while exposure to red light in the evening can increase feelings of happiness and well-being.\n",
            "\n",
            "6. The sound of a river can lower stress: Studies have shown that exposure to the sound of a river can reduce stress and anxiety, and can even lower cortisol levels in the body.\n",
            "\n",
            "7. The taste of coffee can affect mood: Studies have shown that exposure to the taste of coffee can increase feelings of alertness and focus, while exposure to the smell of coffee can increase feelings of happiness and well-being.\n",
            "\n",
            "8. The smell of cinnamon can reduce stress: Studies have shown that exposure to cinnamon can reduce stress and anxiety, and can even lower cortisol levels in the body.\n",
            "\n",
            "9. The taste of chocolate can affect mood: Studies have shown that exposure to the taste of chocolate can increase feelings of happiness and well-being, while exposure to the smell of chocolate can increase feelings of joy and contentment.\n",
            "\n",
            "10. The sound of a bird can affect mood: Studies have shown that exposure to the sound of birds can increase feelings of happiness and well-being, while exposure to the sound of traffic or other noises can decrease feelings of happiness and well-being.\n"
          ]
        }
      ]
    },
    {
      "cell_type": "code",
      "source": [
        "prompt= \"what about life?\"\n",
        "messages.append(dict(role= \"user\", content= prompt))\n",
        "\n",
        "run()"
      ],
      "metadata": {
        "colab": {
          "base_uri": "https://localhost:8080/"
        },
        "id": "YQV-nAx4zm7X",
        "outputId": "5b7336ef-5c68-4da0-f638-7e2d56b64600"
      },
      "execution_count": 8,
      "outputs": [
        {
          "output_type": "stream",
          "name": "stdout",
          "text": [
            "1. The color of the sky can affect mood: Studies have shown that exposure to blue light in the morning can increase feelings of depression and sadness, while exposure to red light in the evening can increase feelings of happiness and well-being.\n",
            "\n",
            "2. The sound of a waterfall can reduce stress: Studies have shown that exposure to the sound of a waterfall can reduce stress and anxiety, and can even lower cortisol levels in the body.\n",
            "\n",
            "3. The taste of chocolate can affect mood: Studies have shown that exposure to the taste of chocolate can increase feelings of happiness and well-being, while exposure to the smell of coffee can increase feelings of anxiety and stress.\n",
            "\n",
            "4. The smell of cinnamon can affect mood: Studies have shown that exposure to the smell of cinnamon can reduce stress and anxiety, and can even lower cortisol levels in the body.\n",
            "\n",
            "5. The taste of coffee can affect mood: Studies have shown that exposure to the taste of coffee can increase feelings of alertness and focus, while exposure to the smell of coffee can increase feelings of happiness and well-being.\n",
            "\n",
            "6. The sound of a bird can affect mood: Studies have shown that exposure to the sound of a bird can reduce stress and anxiety, and can even lower cortisol levels in the body.\n",
            "\n",
            "7. The taste of chocolate can affect mood: Studies have shown that exposure to the taste of chocolate can increase feelings of happiness and well-being, while exposure to the smell of chocolate can increase feelings of joy and contentment.\n",
            "\n",
            "8. The color of the sky can affect mood: Studies have shown that exposure to the color of the sky can affect mood, with blue light in the morning increasing feelings of depression and sadness, while red light in the evening increasing feelings of happiness and well-being.\n",
            "\n",
            "9. The smell of coffee can affect mood: Studies have shown that exposure to the smell of coffee can increase feelings of alertness and focus, while exposure to the smell of coffee can increase feelings of happiness and well-being.\n",
            "\n",
            "10. The sound of a river can affect mood: Studies have shown that exposure to the sound of a river can increase feelings of tranquility and relaxation, while exposure to the sound of traffic or other noises can increase feelings of stress and anxiety.\n"
          ]
        }
      ]
    },
    {
      "cell_type": "code",
      "source": [],
      "metadata": {
        "id": "4XLIP9cj2BQX"
      },
      "execution_count": null,
      "outputs": []
    }
  ]
}