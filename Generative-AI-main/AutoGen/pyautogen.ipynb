{
  "nbformat": 4,
  "nbformat_minor": 0,
  "metadata": {
    "colab": {
      "provenance": [],
      "gpuType": "T4"
    },
    "kernelspec": {
      "name": "python3",
      "display_name": "Python 3"
    },
    "language_info": {
      "name": "python"
    },
    "accelerator": "GPU"
  },
  "cells": [
    {
      "cell_type": "code",
      "execution_count": null,
      "metadata": {
        "id": "Dzsw3P10ztda"
      },
      "outputs": [],
      "source": [
        "!pip install pyautogen~=0.1.0 -q"
      ]
    },
    {
      "cell_type": "code",
      "source": [
        "import autogen"
      ],
      "metadata": {
        "id": "iWHHklvKz-1G"
      },
      "execution_count": null,
      "outputs": []
    },
    {
      "cell_type": "code",
      "source": [
        "config_list= autogen.config_list_from_json(\n",
        "    env_or_file= \"/content/CONFIG_LIST.json\"\n",
        ")"
      ],
      "metadata": {
        "id": "gIfiX9Xc5ccK"
      },
      "execution_count": null,
      "outputs": []
    },
    {
      "cell_type": "code",
      "source": [
        "llm_config= {\n",
        "    \"seed\": 42,\n",
        "    \"temperature\": 0,\n",
        "    \"config_list\": config_list,\n",
        "    \"request_timeout\": 120\n",
        "}"
      ],
      "metadata": {
        "id": "w75-PN0M5DP7"
      },
      "execution_count": null,
      "outputs": []
    },
    {
      "cell_type": "code",
      "source": [
        "roles= {\n",
        "    \"user_proxy\": \"A human admin. Interact with the Product Manager to discuss the plan. Plan execution needs to be approved by this admin.\",\n",
        "    \"product_manager\": \"Product Manager. Suggest a plan, prioritize a solution and create a roadmap. Revise the plan based on the feedback you get from admin, untill admin approval. This plan may involve an engineer who can write code for both frontend and backend, and a ui_engineer who can design UI/UX interface. Explain the plain first. Be clear which step is performed by an engineer, and which step is performed by an ui_engineer. Make sure engineer creates frontend code and backend logic.\",\n",
        "    \"engineer\": \"Engineer. You follow an approved plan. You write python/shell code to solve tasks and execute. Wrap the code in a code block that specifies the script type. The user can't modify your code. So do not suggest incomplete code which requires others to modify. Don't use a code block if it's not intended to be executed by the executor. Don't include multiple code blocks in one response. Do not ask others to copy and paste the result. Check the execution result returned by the executor. If the result indicates there is an error, fix the error and output the code again. Suggest the full code instead of partial code or code changes. If the error can't be fixed or if the task is not solved even after the code is executed successfully, analyze the problem, revisit your assumption, collect additional info you need, and think of a different approach to try.\",\n",
        "    \"ui_engineer\": \"UI Engineer. You follow the approved plan. You are able to create a beautiful UI/UX interface design.\",\n",
        "    \"critics\": \"Critic. Double check plan, claims, code from other agents and provide feedback.\"\n",
        "}"
      ],
      "metadata": {
        "id": "pUzD9-F91jDC"
      },
      "execution_count": null,
      "outputs": []
    },
    {
      "cell_type": "code",
      "source": [
        "user_proxy= autogen.UserProxyAgent(\n",
        "    name= \"Admin\",\n",
        "    system_message= roles[\"user_proxy\"],\n",
        "    code_execution_config= False\n",
        ")\n",
        "\n",
        "product_manager= autogen.AssistantAgent(\n",
        "    name= \"Product_Manager\",\n",
        "    system_message= roles[\"product_manager\"],\n",
        "    llm_config= llm_config\n",
        ")\n",
        "\n",
        "engineer= autogen.AssistantAgent(\n",
        "    name= \"Engineer\",\n",
        "    system_message= roles[\"engineer\"],\n",
        "    llm_config= llm_config\n",
        ")\n",
        "\n",
        "ui_engineer= autogen.AssistantAgent(\n",
        "    name= \"UI_Engineer\",\n",
        "    system_message= roles[\"ui_engineer\"],\n",
        "    llm_config= llm_config\n",
        ")\n",
        "\n",
        "critic= autogen.AssistantAgent(\n",
        "    name= \"Critics\",\n",
        "    system_message= roles[\"critics\"],\n",
        "    llm_config= llm_config\n",
        ")"
      ],
      "metadata": {
        "id": "5AY3Ov_r0LmX"
      },
      "execution_count": null,
      "outputs": []
    },
    {
      "cell_type": "code",
      "source": [
        "groupchat= autogen.GroupChat(agents= [user_proxy, product_manager, engineer, ui_engineer, critic], messages= [], max_round= 50)\n",
        "manager= autogen.GroupChatManager(groupchat= groupchat, llm_config= llm_config)"
      ],
      "metadata": {
        "id": "A53M_vd-4caH"
      },
      "execution_count": null,
      "outputs": []
    },
    {
      "cell_type": "code",
      "source": [
        "user_proxy.initiate_chat(\n",
        "    manager,\n",
        "    message= \"Create a Simple to-do app.\"\n",
        ")"
      ],
      "metadata": {
        "colab": {
          "base_uri": "https://localhost:8080/"
        },
        "id": "Cryd0VWx7ymR",
        "outputId": "7f7ac4d1-8c7d-4b4a-b39e-01e440164d4e"
      },
      "execution_count": 8,
      "outputs": [
        {
          "output_type": "stream",
          "name": "stdout",
          "text": [
            "Admin (to chat_manager):\n",
            "\n",
            "Create a Simple to-do app.\n",
            "\n",
            "--------------------------------------------------------------------------------\n",
            "Product_Manager (to chat_manager):\n",
            "\n",
            "Plan:\n",
            "\n",
            "Step 1: Define requirements and user stories\n",
            "- Gather requirements from users and stakeholders\n",
            "- Create user stories to capture the desired functionality of the to-do app\n",
            "\n",
            "Step 2: Design the UI/UX interface (Performed by UI Engineer)\n",
            "- Collaborate with the UI Engineer to design a simple and intuitive user interface for the to-do app\n",
            "- Create wireframes and mockups to visualize the app's layout and interactions\n",
            "\n",
            "Step 3: Develop the frontend code (Performed by Engineer)\n",
            "- Implement the UI design using HTML, CSS, and JavaScript\n",
            "- Create the necessary components and views for the to-do app\n",
            "- Ensure responsiveness and compatibility across different devices and browsers\n",
            "\n",
            "Step 4: Develop the backend logic (Performed by Engineer)\n",
            "- Design and implement the backend logic using a suitable programming language (e.g., Python, Node.js)\n",
            "- Set up a database to store the to-do items and their associated information\n",
            "- Implement CRUD operations (Create, Read, Update, Delete) for managing the to-do items\n",
            "\n",
            "Step 5: Integrate the frontend and backend (Performed by Engineer)\n",
            "- Connect the frontend and backend components to enable communication between them\n",
            "- Implement API endpoints for data retrieval and manipulation\n",
            "- Test the integration to ensure seamless functionality\n",
            "\n",
            "Step 6: Test the app\n",
            "- Conduct unit tests to verify the correctness of individual components\n",
            "- Perform integration tests to ensure the smooth interaction between frontend and backend\n",
            "- Conduct user acceptance testing to validate the app against the defined requirements\n",
            "\n",
            "Step 7: Deploy the app\n",
            "- Set up a hosting environment for the to-do app\n",
            "- Deploy the frontend and backend code to the hosting environment\n",
            "- Configure any necessary infrastructure components (e.g., web server, database server)\n",
            "\n",
            "Step 8: Gather feedback and iterate\n",
            "- Collect feedback from users and stakeholders on the functionality and usability of the app\n",
            "- Analyze the feedback and identify areas for improvement\n",
            "- Revise the plan and prioritize the necessary changes based on the feedback received\n",
            "\n",
            "Note: The Engineer is responsible for steps 3, 4, and 5, which involve developing the frontend code, backend logic, and integrating the two. The UI Engineer is responsible for step 2, which involves designing the UI/UX interface.\n",
            "\n",
            "--------------------------------------------------------------------------------\n",
            "Critics (to chat_manager):\n",
            "\n",
            "Feedback:\n",
            "- The plan is well-structured and covers all the necessary steps for creating a simple to-do app.\n",
            "- It's good that you have included a step for gathering requirements and user stories. This will help ensure that the app meets the needs of the users.\n",
            "- The division of tasks between the Engineer and UI Engineer is clear and makes sense.\n",
            "- It would be helpful to specify the technologies or frameworks that will be used for frontend development (e.g., React, Angular) and backend development (e.g., Django, Express.js). This will provide more clarity and help with implementation.\n",
            "- Consider including a step for version control, such as using Git, to track changes and collaborate effectively with the development team.\n",
            "- It would be beneficial to include a step for documentation, where you can document the app's architecture, APIs, and any other relevant information for future reference.\n",
            "- Make sure to include a step for security considerations, such as implementing authentication and authorization mechanisms to protect user data.\n",
            "- Consider including a step for performance optimization, where you can analyze and optimize the app's speed and efficiency.\n",
            "- It's great that you have included a step for gathering feedback and iterating. This will help ensure continuous improvement of the app based on user feedback.\n",
            "\n",
            "Overall, the plan looks solid and covers the necessary steps for creating a simple to-do app. Just make sure to provide more specific details regarding the technologies and frameworks that will be used, and consider including steps for version control, documentation, security, and performance optimization.\n",
            "\n",
            "--------------------------------------------------------------------------------\n",
            "[autogen.oai.completion: 01-22 07:14:53] {252} INFO - retrying in 10 seconds...\n",
            "Traceback (most recent call last):\n",
            "  File \"/usr/local/lib/python3.10/dist-packages/autogen/oai/completion.py\", line 222, in _get_response\n",
            "    response = openai_completion.create(**config)\n",
            "  File \"/usr/local/lib/python3.10/dist-packages/openai/api_resources/chat_completion.py\", line 25, in create\n",
            "    return super().create(*args, **kwargs)\n",
            "  File \"/usr/local/lib/python3.10/dist-packages/openai/api_resources/abstract/engine_api_resource.py\", line 155, in create\n",
            "    response, _, api_key = requestor.request(\n",
            "  File \"/usr/local/lib/python3.10/dist-packages/openai/api_requestor.py\", line 299, in request\n",
            "    resp, got_stream = self._interpret_response(result, stream)\n",
            "  File \"/usr/local/lib/python3.10/dist-packages/openai/api_requestor.py\", line 710, in _interpret_response\n",
            "    self._interpret_response_line(\n",
            "  File \"/usr/local/lib/python3.10/dist-packages/openai/api_requestor.py\", line 775, in _interpret_response_line\n",
            "    raise self.handle_error_response(\n",
            "openai.error.RateLimitError: Rate limit reached for gpt-3.5-turbo in organization org-DOLyWHFEpyDOmc1PCKYKwwE4 on requests per min (RPM): Limit 3, Used 3, Requested 1. Please try again in 20s. Visit https://platform.openai.com/account/rate-limits to learn more. You can increase your rate limit by adding a payment method to your account at https://platform.openai.com/account/billing.\n"
          ]
        },
        {
          "output_type": "stream",
          "name": "stderr",
          "text": [
            "INFO:autogen.oai.completion:retrying in 10 seconds...\n",
            "Traceback (most recent call last):\n",
            "  File \"/usr/local/lib/python3.10/dist-packages/autogen/oai/completion.py\", line 222, in _get_response\n",
            "    response = openai_completion.create(**config)\n",
            "  File \"/usr/local/lib/python3.10/dist-packages/openai/api_resources/chat_completion.py\", line 25, in create\n",
            "    return super().create(*args, **kwargs)\n",
            "  File \"/usr/local/lib/python3.10/dist-packages/openai/api_resources/abstract/engine_api_resource.py\", line 155, in create\n",
            "    response, _, api_key = requestor.request(\n",
            "  File \"/usr/local/lib/python3.10/dist-packages/openai/api_requestor.py\", line 299, in request\n",
            "    resp, got_stream = self._interpret_response(result, stream)\n",
            "  File \"/usr/local/lib/python3.10/dist-packages/openai/api_requestor.py\", line 710, in _interpret_response\n",
            "    self._interpret_response_line(\n",
            "  File \"/usr/local/lib/python3.10/dist-packages/openai/api_requestor.py\", line 775, in _interpret_response_line\n",
            "    raise self.handle_error_response(\n",
            "openai.error.RateLimitError: Rate limit reached for gpt-3.5-turbo in organization org-DOLyWHFEpyDOmc1PCKYKwwE4 on requests per min (RPM): Limit 3, Used 3, Requested 1. Please try again in 20s. Visit https://platform.openai.com/account/rate-limits to learn more. You can increase your rate limit by adding a payment method to your account at https://platform.openai.com/account/billing.\n"
          ]
        },
        {
          "output_type": "stream",
          "name": "stdout",
          "text": [
            "[autogen.oai.completion: 01-22 07:15:03] {252} INFO - retrying in 10 seconds...\n",
            "Traceback (most recent call last):\n",
            "  File \"/usr/local/lib/python3.10/dist-packages/autogen/oai/completion.py\", line 222, in _get_response\n",
            "    response = openai_completion.create(**config)\n",
            "  File \"/usr/local/lib/python3.10/dist-packages/openai/api_resources/chat_completion.py\", line 25, in create\n",
            "    return super().create(*args, **kwargs)\n",
            "  File \"/usr/local/lib/python3.10/dist-packages/openai/api_resources/abstract/engine_api_resource.py\", line 155, in create\n",
            "    response, _, api_key = requestor.request(\n",
            "  File \"/usr/local/lib/python3.10/dist-packages/openai/api_requestor.py\", line 299, in request\n",
            "    resp, got_stream = self._interpret_response(result, stream)\n",
            "  File \"/usr/local/lib/python3.10/dist-packages/openai/api_requestor.py\", line 710, in _interpret_response\n",
            "    self._interpret_response_line(\n",
            "  File \"/usr/local/lib/python3.10/dist-packages/openai/api_requestor.py\", line 775, in _interpret_response_line\n",
            "    raise self.handle_error_response(\n",
            "openai.error.RateLimitError: Rate limit reached for gpt-3.5-turbo in organization org-DOLyWHFEpyDOmc1PCKYKwwE4 on requests per min (RPM): Limit 3, Used 3, Requested 1. Please try again in 20s. Visit https://platform.openai.com/account/rate-limits to learn more. You can increase your rate limit by adding a payment method to your account at https://platform.openai.com/account/billing.\n"
          ]
        },
        {
          "output_type": "stream",
          "name": "stderr",
          "text": [
            "INFO:autogen.oai.completion:retrying in 10 seconds...\n",
            "Traceback (most recent call last):\n",
            "  File \"/usr/local/lib/python3.10/dist-packages/autogen/oai/completion.py\", line 222, in _get_response\n",
            "    response = openai_completion.create(**config)\n",
            "  File \"/usr/local/lib/python3.10/dist-packages/openai/api_resources/chat_completion.py\", line 25, in create\n",
            "    return super().create(*args, **kwargs)\n",
            "  File \"/usr/local/lib/python3.10/dist-packages/openai/api_resources/abstract/engine_api_resource.py\", line 155, in create\n",
            "    response, _, api_key = requestor.request(\n",
            "  File \"/usr/local/lib/python3.10/dist-packages/openai/api_requestor.py\", line 299, in request\n",
            "    resp, got_stream = self._interpret_response(result, stream)\n",
            "  File \"/usr/local/lib/python3.10/dist-packages/openai/api_requestor.py\", line 710, in _interpret_response\n",
            "    self._interpret_response_line(\n",
            "  File \"/usr/local/lib/python3.10/dist-packages/openai/api_requestor.py\", line 775, in _interpret_response_line\n",
            "    raise self.handle_error_response(\n",
            "openai.error.RateLimitError: Rate limit reached for gpt-3.5-turbo in organization org-DOLyWHFEpyDOmc1PCKYKwwE4 on requests per min (RPM): Limit 3, Used 3, Requested 1. Please try again in 20s. Visit https://platform.openai.com/account/rate-limits to learn more. You can increase your rate limit by adding a payment method to your account at https://platform.openai.com/account/billing.\n"
          ]
        },
        {
          "name": "stdout",
          "output_type": "stream",
          "text": [
            "Engineer (to chat_manager):\n",
            "\n",
            "Thank you for your feedback! I appreciate your suggestions and will incorporate them into the plan. Here's an updated version:\n",
            "\n",
            "Step 1: Define requirements and user stories\n",
            "- Gather requirements from users and stakeholders\n",
            "- Create user stories to capture the desired functionality of the to-do app\n",
            "\n",
            "Step 2: Design the UI/UX interface (Performed by UI Engineer)\n",
            "- Collaborate with the UI Engineer to design a simple and intuitive user interface for the to-do app\n",
            "- Create wireframes and mockups to visualize the app's layout and interactions\n",
            "\n",
            "Step 3: Develop the frontend code (Performed by Engineer)\n",
            "- Implement the UI design using a frontend framework (e.g., React, Angular)\n",
            "- Create the necessary components and views for the to-do app\n",
            "- Ensure responsiveness and compatibility across different devices and browsers\n",
            "\n",
            "Step 4: Develop the backend logic (Performed by Engineer)\n",
            "- Design and implement the backend logic using a suitable backend framework (e.g., Django, Express.js)\n",
            "- Set up a database to store the to-do items and their associated information\n",
            "- Implement CRUD operations (Create, Read, Update, Delete) for managing the to-do items\n",
            "\n",
            "Step 5: Integrate the frontend and backend (Performed by Engineer)\n",
            "- Connect the frontend and backend components to enable communication between them\n",
            "- Implement API endpoints for data retrieval and manipulation\n",
            "- Test the integration to ensure seamless functionality\n",
            "\n",
            "Step 6: Implement authentication and authorization (Performed by Engineer)\n",
            "- Design and implement user authentication and authorization mechanisms\n",
            "- Ensure secure access to user data and protect against unauthorized access\n",
            "\n",
            "Step 7: Perform performance optimization (Performed by Engineer)\n",
            "- Analyze and optimize the app's speed and efficiency\n",
            "- Implement caching mechanisms and optimize database queries for improved performance\n",
            "\n",
            "Step 8: Conduct testing\n",
            "- Conduct unit tests to verify the correctness of individual components\n",
            "- Perform integration tests to ensure the smooth interaction between frontend and backend\n",
            "- Conduct user acceptance testing to validate the app against the defined requirements\n",
            "\n",
            "Step 9: Document the app\n",
            "- Document the app's architecture, APIs, and any other relevant information for future reference\n",
            "- Provide clear instructions on how to set up and deploy the app\n",
            "\n",
            "Step 10: Deploy the app\n",
            "- Set up a hosting environment for the to-do app\n",
            "- Deploy the frontend and backend code to the hosting environment\n",
            "- Configure any necessary infrastructure components (e.g., web server, database server)\n",
            "\n",
            "Step 11: Gather feedback and iterate\n",
            "- Collect feedback from users and stakeholders on the functionality and usability of the app\n",
            "- Analyze the feedback and identify areas for improvement\n",
            "- Revise the plan and prioritize the necessary changes based on the feedback received\n",
            "\n",
            "I hope this updated plan addresses your suggestions. Let me know if there's anything else I can assist you with!\n",
            "\n",
            "--------------------------------------------------------------------------------\n",
            "Provide feedback to chat_manager. Press enter to skip and use auto-reply, or type 'exit' to end the conversation: exit\n"
          ]
        }
      ]
    },
    {
      "cell_type": "code",
      "source": [],
      "metadata": {
        "id": "ns_J7nNl8E6J"
      },
      "execution_count": 8,
      "outputs": []
    }
  ]
}