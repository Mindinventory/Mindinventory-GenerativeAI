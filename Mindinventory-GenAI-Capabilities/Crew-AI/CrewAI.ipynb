{
  "nbformat": 4,
  "nbformat_minor": 0,
  "metadata": {
    "colab": {
      "provenance": [],
      "gpuType": "T4"
    },
    "kernelspec": {
      "name": "python3",
      "display_name": "Python 3"
    },
    "language_info": {
      "name": "python"
    },
    "accelerator": "GPU"
  },
  "cells": [
    {
      "cell_type": "code",
      "execution_count": 1,
      "metadata": {
        "id": "s5iUCW6KnKc3"
      },
      "outputs": [],
      "source": [
        "!pip install -q crewai langchain_google_genai"
      ]
    },
    {
      "cell_type": "code",
      "source": [
        "!pip install duckduckgo-search -q -U"
      ],
      "metadata": {
        "id": "zu8skkCPuVZF"
      },
      "execution_count": 2,
      "outputs": []
    },
    {
      "cell_type": "code",
      "source": [
        "import os\n",
        "from langchain_google_genai import ChatGoogleGenerativeAI\n",
        "from langchain.tools import DuckDuckGoSearchRun\n",
        "from crewai import Agent, Task, Crew, Process"
      ],
      "metadata": {
        "id": "vQKc1HIKnhDq"
      },
      "execution_count": 3,
      "outputs": []
    },
    {
      "cell_type": "code",
      "source": [
        "llm= ChatGoogleGenerativeAI(\n",
        "    model= \"gemini-pro\",\n",
        "    verbose= True,\n",
        "    temperature= 0.5,\n",
        "    google_api_key= \"API_KEY\"\n",
        ")\n",
        "llm"
      ],
      "metadata": {
        "colab": {
          "base_uri": "https://localhost:8080/"
        },
        "id": "sa5rsdfmnylA",
        "outputId": "48d91d4e-303e-4294-f874-829fffabd187"
      },
      "execution_count": 4,
      "outputs": [
        {
          "output_type": "execute_result",
          "data": {
            "text/plain": [
              "ChatGoogleGenerativeAI(verbose=True, model='gemini-pro', client= genai.GenerativeModel(\n",
              "   model_name='models/gemini-pro',\n",
              "   generation_config={}.\n",
              "   safety_settings={}\n",
              "), google_api_key=SecretStr('**********'), temperature=0.5)"
            ]
          },
          "metadata": {},
          "execution_count": 4
        }
      ]
    },
    {
      "cell_type": "code",
      "source": [
        "search_tool= DuckDuckGoSearchRun()"
      ],
      "metadata": {
        "id": "XBX2oKJMoaGu"
      },
      "execution_count": 5,
      "outputs": []
    },
    {
      "cell_type": "code",
      "source": [
        "researcher= Agent(\n",
        "    role= \"Senior Research Analyst\",\n",
        "    goal= \"Uncover cutting-edge developments involving Technology and Engineering\",\n",
        "    backstory= \"You work at a leading tech Research Cooperation. Your expertise lies in identifying emerging possibilities. You have a knack for dissecting complex data and presenting actionable insights.\",\n",
        "    verbose= True,\n",
        "    allow_delegation= True,\n",
        "    llm= llm,\n",
        "    tools= [search_tool],\n",
        "    type= 'Crew'\n",
        ")\n",
        "\n",
        "research_intern= Agent(\n",
        "    role= \"Research Analyst Intern\",\n",
        "    goal= \"Uncover fascinating developments in the field of Technology and Engineering\",\n",
        "    backstory= \"You just joined a leading tech Research Cooperation as an intern. Your expertise lies in identifying emerging trends. You work along with the other researchers to solve problems and find new insights.\",\n",
        "    verbose= True,\n",
        "    allow_delegation= False,\n",
        "    llm= llm,\n",
        "    tools= [search_tool],\n",
        "    type= 'Crew'\n",
        ")\n",
        "\n",
        "writer= Agent(\n",
        "    role= \"Tech Content Strategist\",\n",
        "    goal= \"Craft compelling content on tech research and advancements\",\n",
        "    backstory= \"You are a renowned Content Strategist, known for you insightful and engaging articles. You transform complex concepts into compelling narratives.\",\n",
        "    verbose= True,\n",
        "    #allow_delegation= False,\n",
        "    llm= llm,\n",
        "    tools= [],\n",
        "    type= 'Crew'\n",
        ")"
      ],
      "metadata": {
        "id": "gCV2VKSbogHc"
      },
      "execution_count": 17,
      "outputs": []
    },
    {
      "cell_type": "code",
      "source": [
        "task1= Task(\n",
        "    description= '''Conduct a comprehensive analysis of the latest advancements in AI in 2024.\n",
        "    Identify key trends, breakthrough technologies, and potential industry impacts.\n",
        "    Your final answer MUST be a full-fledged analysis report.\n",
        "    ''',\n",
        "    agent= researcher\n",
        ")\n",
        "\n",
        "task2= Task(\n",
        "    description= '''Work along with the researcher and provide necessary help in coming up with insights.\n",
        "    ''',\n",
        "    agent= research_intern\n",
        ")\n",
        "\n",
        "task3= Task(\n",
        "    description= '''Using the insights provied, develop an engaging blog post that highlights the most signigicant AI advancements.\n",
        "    Your post should be informative yet accessible, catering to a tech-savvy audience.\n",
        "    Make it sound awesome, avoid complex words, make is sound like a human-made article.\n",
        "    Your final result MUST be the full blog post of at least 4 paragraphs.\n",
        "    ''',\n",
        "    agent= writer\n",
        ")"
      ],
      "metadata": {
        "id": "0RVHnRvMr9tr"
      },
      "execution_count": 19,
      "outputs": []
    },
    {
      "cell_type": "code",
      "source": [
        "crew= Crew(\n",
        "    agents= [researcher, research_intern, writer],\n",
        "    tasks= [task1, task2, task3],\n",
        "    process= Process.sequential,\n",
        "    verbose= 2\n",
        ")\n",
        "crew"
      ],
      "metadata": {
        "colab": {
          "base_uri": "https://localhost:8080/"
        },
        "id": "_0nqoJrptyas",
        "outputId": "c4769644-5f27-4fc0-ab46-54119c4a5cf3"
      },
      "execution_count": 20,
      "outputs": [
        {
          "output_type": "execute_result",
          "data": {
            "text/plain": [
              "Crew(tasks=[Task(description='Conduct a comprehensive analysis of the latest advancements in AI in 2024.\\n    Identify key trends, breakthrough technologies, and potential industry impacts.\\n    Your final answer MUST be a full-fledged analysis report.\\n    ', agent=Agent(id=UUID('355910a2-8ab1-4f8b-98ed-aada3fae450d'), role='Senior Research Analyst', goal='Uncover cutting-edge developments involving Technology and Engineering', backstory='You work at a leading tech Research Cooperation. Your expertise lies in identifying emerging possibilities. You have a knack for dissecting complex data and presenting actionable insights.', max_rpm=None, memory=True, verbose=True, allow_delegation=True, tools=[DuckDuckGoSearchRun()], max_iter=15, agent_executor=CrewAgentExecutor(memory=ConversationSummaryMemory(llm=ChatGoogleGenerativeAI(verbose=True, model='gemini-pro', client= genai.GenerativeModel(\n",
              "   model_name='models/gemini-pro',\n",
              "   generation_config={}.\n",
              "   safety_settings={}\n",
              "), google_api_key=SecretStr('**********'), temperature=0.5), input_key='input', memory_key='chat_history'), verbose=True, agent=RunnableAgent(runnable={\n",
              "  input: RunnableLambda(...),\n",
              "  tools: RunnableLambda(...),\n",
              "  tool_names: RunnableLambda(...),\n",
              "  agent_scratchpad: RunnableLambda(...),\n",
              "  chat_history: RunnableLambda(lambda x: x['chat_history'])\n",
              "}\n",
              "| PromptTemplate(input_variables=['agent_scratchpad', 'chat_history', 'input', 'tool_names', 'tools'], partial_variables={'goal': 'Uncover cutting-edge developments involving Technology and Engineering', 'role': 'Senior Research Analyst', 'backstory': 'You work at a leading tech Research Cooperation. Your expertise lies in identifying emerging possibilities. You have a knack for dissecting complex data and presenting actionable insights.'}, template='You are {role}.\\n{backstory}\\n\\nYour personal goal is: {goal}TOOLS:\\n------\\nYou have access to only the following tools:\\n\\n{tools}\\n\\nTo use a tool, please use the exact following format:\\n\\n```\\nThought: Do I need to use a tool? Yes\\nAction: the action to take, should be one of [{tool_names}], just the name.\\nAction Input: the input to the action\\nObservation: the result of the action\\n```\\n\\nWhen you have a response for your task, or if you do not need to use a tool, you MUST use the format:\\n\\n```\\nThought: Do I need to use a tool? No\\nFinal Answer: [your response here]This is the summary of your work so far:\\n{chat_history}Begin! This is VERY important to you, your job depends on it!\\n\\nCurrent Task: {input}\\n{agent_scratchpad}')\n",
              "| RunnableBinding(bound=ChatGoogleGenerativeAI(verbose=True, model='gemini-pro', client= genai.GenerativeModel(\n",
              "     model_name='models/gemini-pro',\n",
              "     generation_config={}.\n",
              "     safety_settings={}\n",
              "  ), google_api_key=SecretStr('**********'), temperature=0.5), kwargs={'stop': ['\\nObservation']})\n",
              "| CrewAgentOutputParser(tools_handler=<crewai.agents.tools_handler.ToolsHandler object at 0x7c11902a54e0>, cache=<crewai.agents.cache.cache_handler.CacheHandler object at 0x7c11902a60b0>, i18n=I18N(language='en'))), tools=[DuckDuckGoSearchRun()], handle_parsing_errors=True, request_within_rpm_limit=<bound method RPMController.check_or_wait of RPMController(max_rpm=None, logger=<crewai.utilities.logger.Logger object at 0x7c11902a7fd0>)>, force_answer_max_iterations=13), tools_handler=<crewai.agents.tools_handler.ToolsHandler object at 0x7c11902a54e0>, cache_handler=<crewai.agents.cache.cache_handler.CacheHandler object at 0x7c11902a60b0>, i18n=I18N(language='en'), llm=ChatGoogleGenerativeAI(verbose=True, model='gemini-pro', client= genai.GenerativeModel(\n",
              "   model_name='models/gemini-pro',\n",
              "   generation_config={}.\n",
              "   safety_settings={}\n",
              "), google_api_key=SecretStr('**********'), temperature=0.5)), tools=[DuckDuckGoSearchRun()], output=None, id=UUID('14133c8c-41ac-4a79-b298-20fddc329b43')), Task(description='Work along with the researcher and provide necessary help in coming up with insights.\\n    ', agent=Agent(id=UUID('a253b874-5b68-4de7-97f7-fb1aa057980a'), role='Research Analyst Intern', goal='Uncover fascinating developments in the field of Technology and Engineering', backstory='You just joined a leading tech Research Cooperation as an intern. Your expertise lies in identifying emerging trends. You work along with the other researchers to solve problems and find new insights.', max_rpm=None, memory=True, verbose=True, allow_delegation=False, tools=[DuckDuckGoSearchRun()], max_iter=15, agent_executor=CrewAgentExecutor(memory=ConversationSummaryMemory(llm=ChatGoogleGenerativeAI(verbose=True, model='gemini-pro', client= genai.GenerativeModel(\n",
              "   model_name='models/gemini-pro',\n",
              "   generation_config={}.\n",
              "   safety_settings={}\n",
              "), google_api_key=SecretStr('**********'), temperature=0.5), input_key='input', memory_key='chat_history'), verbose=True, agent=RunnableAgent(runnable={\n",
              "  input: RunnableLambda(...),\n",
              "  tools: RunnableLambda(...),\n",
              "  tool_names: RunnableLambda(...),\n",
              "  agent_scratchpad: RunnableLambda(...),\n",
              "  chat_history: RunnableLambda(lambda x: x['chat_history'])\n",
              "}\n",
              "| PromptTemplate(input_variables=['agent_scratchpad', 'chat_history', 'input', 'tool_names', 'tools'], partial_variables={'goal': 'Uncover fascinating developments in the field of Technology and Engineering', 'role': 'Research Analyst Intern', 'backstory': 'You just joined a leading tech Research Cooperation as an intern. Your expertise lies in identifying emerging trends. You work along with the other researchers to solve problems and find new insights.'}, template='You are {role}.\\n{backstory}\\n\\nYour personal goal is: {goal}TOOLS:\\n------\\nYou have access to only the following tools:\\n\\n{tools}\\n\\nTo use a tool, please use the exact following format:\\n\\n```\\nThought: Do I need to use a tool? Yes\\nAction: the action to take, should be one of [{tool_names}], just the name.\\nAction Input: the input to the action\\nObservation: the result of the action\\n```\\n\\nWhen you have a response for your task, or if you do not need to use a tool, you MUST use the format:\\n\\n```\\nThought: Do I need to use a tool? No\\nFinal Answer: [your response here]This is the summary of your work so far:\\n{chat_history}Begin! This is VERY important to you, your job depends on it!\\n\\nCurrent Task: {input}\\n{agent_scratchpad}')\n",
              "| RunnableBinding(bound=ChatGoogleGenerativeAI(verbose=True, model='gemini-pro', client= genai.GenerativeModel(\n",
              "     model_name='models/gemini-pro',\n",
              "     generation_config={}.\n",
              "     safety_settings={}\n",
              "  ), google_api_key=SecretStr('**********'), temperature=0.5), kwargs={'stop': ['\\nObservation']})\n",
              "| CrewAgentOutputParser(tools_handler=<crewai.agents.tools_handler.ToolsHandler object at 0x7c11902a6980>, cache=<crewai.agents.cache.cache_handler.CacheHandler object at 0x7c11902a60b0>, i18n=I18N(language='en'))), tools=[DuckDuckGoSearchRun()], handle_parsing_errors=True, request_within_rpm_limit=<bound method RPMController.check_or_wait of RPMController(max_rpm=None, logger=<crewai.utilities.logger.Logger object at 0x7c11902a7fd0>)>, force_answer_max_iterations=13), tools_handler=<crewai.agents.tools_handler.ToolsHandler object at 0x7c11902a6980>, cache_handler=<crewai.agents.cache.cache_handler.CacheHandler object at 0x7c11902a60b0>, i18n=I18N(language='en'), llm=ChatGoogleGenerativeAI(verbose=True, model='gemini-pro', client= genai.GenerativeModel(\n",
              "   model_name='models/gemini-pro',\n",
              "   generation_config={}.\n",
              "   safety_settings={}\n",
              "), google_api_key=SecretStr('**********'), temperature=0.5)), tools=[DuckDuckGoSearchRun()], output=None, id=UUID('f130b51a-61a1-4774-99c7-88f72ef38e3a')), Task(description='Using the insights provied, develop an engaging blog post that highlights the most signigicant AI advancements.\\n    Your post should be informative yet accessible, catering to a tech-savvy audience.\\n    Make it sound awesome, avoid complex words, make is sound like a human-made article.\\n    Your final result MUST be the full blog post of at least 4 paragraphs.\\n    ', agent=Agent(id=UUID('5a210c68-1057-4933-a7be-22cb8857e284'), role='Tech Content Strategist', goal='Craft compelling content on tech research and advancements', backstory='You are a renowned Content Strategist, known for you insightful and engaging articles. You transform complex concepts into compelling narratives.', max_rpm=None, memory=True, verbose=True, allow_delegation=True, tools=[], max_iter=15, agent_executor=CrewAgentExecutor(memory=ConversationSummaryMemory(llm=ChatGoogleGenerativeAI(verbose=True, model='gemini-pro', client= genai.GenerativeModel(\n",
              "   model_name='models/gemini-pro',\n",
              "   generation_config={}.\n",
              "   safety_settings={}\n",
              "), google_api_key=SecretStr('**********'), temperature=0.5), input_key='input', memory_key='chat_history'), verbose=True, agent=RunnableAgent(runnable={\n",
              "  input: RunnableLambda(...),\n",
              "  tools: RunnableLambda(...),\n",
              "  tool_names: RunnableLambda(...),\n",
              "  agent_scratchpad: RunnableLambda(...),\n",
              "  chat_history: RunnableLambda(lambda x: x['chat_history'])\n",
              "}\n",
              "| PromptTemplate(input_variables=['agent_scratchpad', 'chat_history', 'input', 'tool_names', 'tools'], partial_variables={'goal': 'Craft compelling content on tech research and advancements', 'role': 'Tech Content Strategist', 'backstory': 'You are a renowned Content Strategist, known for you insightful and engaging articles. You transform complex concepts into compelling narratives.'}, template='You are {role}.\\n{backstory}\\n\\nYour personal goal is: {goal}TOOLS:\\n------\\nYou have access to only the following tools:\\n\\n{tools}\\n\\nTo use a tool, please use the exact following format:\\n\\n```\\nThought: Do I need to use a tool? Yes\\nAction: the action to take, should be one of [{tool_names}], just the name.\\nAction Input: the input to the action\\nObservation: the result of the action\\n```\\n\\nWhen you have a response for your task, or if you do not need to use a tool, you MUST use the format:\\n\\n```\\nThought: Do I need to use a tool? No\\nFinal Answer: [your response here]This is the summary of your work so far:\\n{chat_history}Begin! This is VERY important to you, your job depends on it!\\n\\nCurrent Task: {input}\\n{agent_scratchpad}')\n",
              "| RunnableBinding(bound=ChatGoogleGenerativeAI(verbose=True, model='gemini-pro', client= genai.GenerativeModel(\n",
              "     model_name='models/gemini-pro',\n",
              "     generation_config={}.\n",
              "     safety_settings={}\n",
              "  ), google_api_key=SecretStr('**********'), temperature=0.5), kwargs={'stop': ['\\nObservation']})\n",
              "| CrewAgentOutputParser(tools_handler=<crewai.agents.tools_handler.ToolsHandler object at 0x7c118dfd0430>, cache=<crewai.agents.cache.cache_handler.CacheHandler object at 0x7c11902a60b0>, i18n=I18N(language='en'))), tools=[], handle_parsing_errors=True, request_within_rpm_limit=<bound method RPMController.check_or_wait of RPMController(max_rpm=None, logger=<crewai.utilities.logger.Logger object at 0x7c11902a7fd0>)>, force_answer_max_iterations=13), tools_handler=<crewai.agents.tools_handler.ToolsHandler object at 0x7c118dfd0430>, cache_handler=<crewai.agents.cache.cache_handler.CacheHandler object at 0x7c11902a60b0>, i18n=I18N(language='en'), llm=ChatGoogleGenerativeAI(verbose=True, model='gemini-pro', client= genai.GenerativeModel(\n",
              "   model_name='models/gemini-pro',\n",
              "   generation_config={}.\n",
              "   safety_settings={}\n",
              "), google_api_key=SecretStr('**********'), temperature=0.5)), tools=[], output=None, id=UUID('123ff10f-bcb4-4be2-84e1-ca58276226b7'))], agents=[Agent(id=UUID('355910a2-8ab1-4f8b-98ed-aada3fae450d'), role='Senior Research Analyst', goal='Uncover cutting-edge developments involving Technology and Engineering', backstory='You work at a leading tech Research Cooperation. Your expertise lies in identifying emerging possibilities. You have a knack for dissecting complex data and presenting actionable insights.', max_rpm=None, memory=True, verbose=True, allow_delegation=True, tools=[DuckDuckGoSearchRun()], max_iter=15, agent_executor=CrewAgentExecutor(memory=ConversationSummaryMemory(llm=ChatGoogleGenerativeAI(verbose=True, model='gemini-pro', client= genai.GenerativeModel(\n",
              "   model_name='models/gemini-pro',\n",
              "   generation_config={}.\n",
              "   safety_settings={}\n",
              "), google_api_key=SecretStr('**********'), temperature=0.5), input_key='input', memory_key='chat_history'), verbose=True, agent=RunnableAgent(runnable={\n",
              "  input: RunnableLambda(...),\n",
              "  tools: RunnableLambda(...),\n",
              "  tool_names: RunnableLambda(...),\n",
              "  agent_scratchpad: RunnableLambda(...),\n",
              "  chat_history: RunnableLambda(lambda x: x['chat_history'])\n",
              "}\n",
              "| PromptTemplate(input_variables=['agent_scratchpad', 'chat_history', 'input', 'tool_names', 'tools'], partial_variables={'goal': 'Uncover cutting-edge developments involving Technology and Engineering', 'role': 'Senior Research Analyst', 'backstory': 'You work at a leading tech Research Cooperation. Your expertise lies in identifying emerging possibilities. You have a knack for dissecting complex data and presenting actionable insights.'}, template='You are {role}.\\n{backstory}\\n\\nYour personal goal is: {goal}TOOLS:\\n------\\nYou have access to only the following tools:\\n\\n{tools}\\n\\nTo use a tool, please use the exact following format:\\n\\n```\\nThought: Do I need to use a tool? Yes\\nAction: the action to take, should be one of [{tool_names}], just the name.\\nAction Input: the input to the action\\nObservation: the result of the action\\n```\\n\\nWhen you have a response for your task, or if you do not need to use a tool, you MUST use the format:\\n\\n```\\nThought: Do I need to use a tool? No\\nFinal Answer: [your response here]This is the summary of your work so far:\\n{chat_history}Begin! This is VERY important to you, your job depends on it!\\n\\nCurrent Task: {input}\\n{agent_scratchpad}')\n",
              "| RunnableBinding(bound=ChatGoogleGenerativeAI(verbose=True, model='gemini-pro', client= genai.GenerativeModel(\n",
              "     model_name='models/gemini-pro',\n",
              "     generation_config={}.\n",
              "     safety_settings={}\n",
              "  ), google_api_key=SecretStr('**********'), temperature=0.5), kwargs={'stop': ['\\nObservation']})\n",
              "| CrewAgentOutputParser(tools_handler=<crewai.agents.tools_handler.ToolsHandler object at 0x7c11902a54e0>, cache=<crewai.agents.cache.cache_handler.CacheHandler object at 0x7c11902a60b0>, i18n=I18N(language='en'))), tools=[DuckDuckGoSearchRun()], handle_parsing_errors=True, request_within_rpm_limit=<bound method RPMController.check_or_wait of RPMController(max_rpm=None, logger=<crewai.utilities.logger.Logger object at 0x7c11902a7fd0>)>, force_answer_max_iterations=13), tools_handler=<crewai.agents.tools_handler.ToolsHandler object at 0x7c11902a54e0>, cache_handler=<crewai.agents.cache.cache_handler.CacheHandler object at 0x7c11902a60b0>, i18n=I18N(language='en'), llm=ChatGoogleGenerativeAI(verbose=True, model='gemini-pro', client= genai.GenerativeModel(\n",
              "   model_name='models/gemini-pro',\n",
              "   generation_config={}.\n",
              "   safety_settings={}\n",
              "), google_api_key=SecretStr('**********'), temperature=0.5)), Agent(id=UUID('a253b874-5b68-4de7-97f7-fb1aa057980a'), role='Research Analyst Intern', goal='Uncover fascinating developments in the field of Technology and Engineering', backstory='You just joined a leading tech Research Cooperation as an intern. Your expertise lies in identifying emerging trends. You work along with the other researchers to solve problems and find new insights.', max_rpm=None, memory=True, verbose=True, allow_delegation=False, tools=[DuckDuckGoSearchRun()], max_iter=15, agent_executor=CrewAgentExecutor(memory=ConversationSummaryMemory(llm=ChatGoogleGenerativeAI(verbose=True, model='gemini-pro', client= genai.GenerativeModel(\n",
              "   model_name='models/gemini-pro',\n",
              "   generation_config={}.\n",
              "   safety_settings={}\n",
              "), google_api_key=SecretStr('**********'), temperature=0.5), input_key='input', memory_key='chat_history'), verbose=True, agent=RunnableAgent(runnable={\n",
              "  input: RunnableLambda(...),\n",
              "  tools: RunnableLambda(...),\n",
              "  tool_names: RunnableLambda(...),\n",
              "  agent_scratchpad: RunnableLambda(...),\n",
              "  chat_history: RunnableLambda(lambda x: x['chat_history'])\n",
              "}\n",
              "| PromptTemplate(input_variables=['agent_scratchpad', 'chat_history', 'input', 'tool_names', 'tools'], partial_variables={'goal': 'Uncover fascinating developments in the field of Technology and Engineering', 'role': 'Research Analyst Intern', 'backstory': 'You just joined a leading tech Research Cooperation as an intern. Your expertise lies in identifying emerging trends. You work along with the other researchers to solve problems and find new insights.'}, template='You are {role}.\\n{backstory}\\n\\nYour personal goal is: {goal}TOOLS:\\n------\\nYou have access to only the following tools:\\n\\n{tools}\\n\\nTo use a tool, please use the exact following format:\\n\\n```\\nThought: Do I need to use a tool? Yes\\nAction: the action to take, should be one of [{tool_names}], just the name.\\nAction Input: the input to the action\\nObservation: the result of the action\\n```\\n\\nWhen you have a response for your task, or if you do not need to use a tool, you MUST use the format:\\n\\n```\\nThought: Do I need to use a tool? No\\nFinal Answer: [your response here]This is the summary of your work so far:\\n{chat_history}Begin! This is VERY important to you, your job depends on it!\\n\\nCurrent Task: {input}\\n{agent_scratchpad}')\n",
              "| RunnableBinding(bound=ChatGoogleGenerativeAI(verbose=True, model='gemini-pro', client= genai.GenerativeModel(\n",
              "     model_name='models/gemini-pro',\n",
              "     generation_config={}.\n",
              "     safety_settings={}\n",
              "  ), google_api_key=SecretStr('**********'), temperature=0.5), kwargs={'stop': ['\\nObservation']})\n",
              "| CrewAgentOutputParser(tools_handler=<crewai.agents.tools_handler.ToolsHandler object at 0x7c11902a6980>, cache=<crewai.agents.cache.cache_handler.CacheHandler object at 0x7c11902a60b0>, i18n=I18N(language='en'))), tools=[DuckDuckGoSearchRun()], handle_parsing_errors=True, request_within_rpm_limit=<bound method RPMController.check_or_wait of RPMController(max_rpm=None, logger=<crewai.utilities.logger.Logger object at 0x7c11902a7fd0>)>, force_answer_max_iterations=13), tools_handler=<crewai.agents.tools_handler.ToolsHandler object at 0x7c11902a6980>, cache_handler=<crewai.agents.cache.cache_handler.CacheHandler object at 0x7c11902a60b0>, i18n=I18N(language='en'), llm=ChatGoogleGenerativeAI(verbose=True, model='gemini-pro', client= genai.GenerativeModel(\n",
              "   model_name='models/gemini-pro',\n",
              "   generation_config={}.\n",
              "   safety_settings={}\n",
              "), google_api_key=SecretStr('**********'), temperature=0.5)), Agent(id=UUID('5a210c68-1057-4933-a7be-22cb8857e284'), role='Tech Content Strategist', goal='Craft compelling content on tech research and advancements', backstory='You are a renowned Content Strategist, known for you insightful and engaging articles. You transform complex concepts into compelling narratives.', max_rpm=None, memory=True, verbose=True, allow_delegation=True, tools=[], max_iter=15, agent_executor=CrewAgentExecutor(memory=ConversationSummaryMemory(llm=ChatGoogleGenerativeAI(verbose=True, model='gemini-pro', client= genai.GenerativeModel(\n",
              "   model_name='models/gemini-pro',\n",
              "   generation_config={}.\n",
              "   safety_settings={}\n",
              "), google_api_key=SecretStr('**********'), temperature=0.5), input_key='input', memory_key='chat_history'), verbose=True, agent=RunnableAgent(runnable={\n",
              "  input: RunnableLambda(...),\n",
              "  tools: RunnableLambda(...),\n",
              "  tool_names: RunnableLambda(...),\n",
              "  agent_scratchpad: RunnableLambda(...),\n",
              "  chat_history: RunnableLambda(lambda x: x['chat_history'])\n",
              "}\n",
              "| PromptTemplate(input_variables=['agent_scratchpad', 'chat_history', 'input', 'tool_names', 'tools'], partial_variables={'goal': 'Craft compelling content on tech research and advancements', 'role': 'Tech Content Strategist', 'backstory': 'You are a renowned Content Strategist, known for you insightful and engaging articles. You transform complex concepts into compelling narratives.'}, template='You are {role}.\\n{backstory}\\n\\nYour personal goal is: {goal}TOOLS:\\n------\\nYou have access to only the following tools:\\n\\n{tools}\\n\\nTo use a tool, please use the exact following format:\\n\\n```\\nThought: Do I need to use a tool? Yes\\nAction: the action to take, should be one of [{tool_names}], just the name.\\nAction Input: the input to the action\\nObservation: the result of the action\\n```\\n\\nWhen you have a response for your task, or if you do not need to use a tool, you MUST use the format:\\n\\n```\\nThought: Do I need to use a tool? No\\nFinal Answer: [your response here]This is the summary of your work so far:\\n{chat_history}Begin! This is VERY important to you, your job depends on it!\\n\\nCurrent Task: {input}\\n{agent_scratchpad}')\n",
              "| RunnableBinding(bound=ChatGoogleGenerativeAI(verbose=True, model='gemini-pro', client= genai.GenerativeModel(\n",
              "     model_name='models/gemini-pro',\n",
              "     generation_config={}.\n",
              "     safety_settings={}\n",
              "  ), google_api_key=SecretStr('**********'), temperature=0.5), kwargs={'stop': ['\\nObservation']})\n",
              "| CrewAgentOutputParser(tools_handler=<crewai.agents.tools_handler.ToolsHandler object at 0x7c118dfd0430>, cache=<crewai.agents.cache.cache_handler.CacheHandler object at 0x7c11902a60b0>, i18n=I18N(language='en'))), tools=[], handle_parsing_errors=True, request_within_rpm_limit=<bound method RPMController.check_or_wait of RPMController(max_rpm=None, logger=<crewai.utilities.logger.Logger object at 0x7c11902a7fd0>)>, force_answer_max_iterations=13), tools_handler=<crewai.agents.tools_handler.ToolsHandler object at 0x7c118dfd0430>, cache_handler=<crewai.agents.cache.cache_handler.CacheHandler object at 0x7c11902a60b0>, i18n=I18N(language='en'), llm=ChatGoogleGenerativeAI(verbose=True, model='gemini-pro', client= genai.GenerativeModel(\n",
              "   model_name='models/gemini-pro',\n",
              "   generation_config={}.\n",
              "   safety_settings={}\n",
              "), google_api_key=SecretStr('**********'), temperature=0.5))], process=<Process.sequential: 'sequential'>, verbose=2, config=None, id=UUID('6a9b990f-6301-4f28-847b-e58573647cf3'), max_rpm=None, language='en')"
            ]
          },
          "metadata": {},
          "execution_count": 20
        }
      ]
    },
    {
      "cell_type": "code",
      "source": [
        "result= crew.kickoff()"
      ],
      "metadata": {
        "colab": {
          "base_uri": "https://localhost:8080/"
        },
        "id": "5PniQKlQuA_z",
        "outputId": "f7220578-79e8-4d41-9466-3042f4fdc09c"
      },
      "execution_count": 21,
      "outputs": [
        {
          "output_type": "stream",
          "name": "stdout",
          "text": [
            "\n",
            "[DEBUG]: Working Agent: Senior Research Analyst\n",
            "\n",
            "[INFO]: Starting Task: Conduct a comprehensive analysis of the latest advancements in AI in 2024.\n",
            "    Identify key trends, breakthrough technologies, and potential industry impacts.\n",
            "    Your final answer MUST be a full-fledged analysis report.\n",
            "    \n",
            "\n",
            "\n",
            "\u001b[1m> Entering new CrewAgentExecutor chain...\u001b[0m\n",
            "\u001b[32;1m\u001b[1;3mThought: Do I need to use a tool? Yes\n",
            "Action: duckduckgo_search\n",
            "Action Input: What are the latest advancements in AI in 2024?\u001b[0m\u001b[36;1m\u001b[1;3mIn 2024, generative AI might actually become useful for the regular, non-tech person, and we are going to see more people tinkering with a million little AI models. State-of-the-art AI... published 27 December 2023 While 2023 was the year of AI, 2024 will be the year we use it. Comments (0) (Image credit: Aston Martin/Apple) We have just come to the end of a year where... It's been a year since OpenAI released ChatGPT, opening the door to seamlessly weave AI into the fabric of our daily lives, propelling industries into the future and even prompting regulatory... Focusing On The AI-Era Job Market. The International Monetary Fund's \"Gen-AI: Artificial Intelligence and the Future of Work\" report, unveiled at Davos, paints a stark picture: up to 60% of jobs ... The A.I. industry this year is set to be defined by one main characteristic: a remarkably rapid improvement of the technology as advancements build upon one another, enabling A.I. to generate...\u001b[0m\u001b[32;1m\u001b[1;3mDo I need to use a tool? No\n",
            "Final Answer: The advancements in AI in 2024 are expected to be significant, with generative AI becoming more accessible and useful for non-tech individuals. Additionally, the integration of AI into various industries is likely to accelerate, leading to transformative changes in the job market and the way we live and work. These trends underscore the need for continued research and development in AI, as well as careful consideration of the ethical and societal implications of these technologies.\n",
            "\n",
            "This is the summary of your work so far:\n",
            "\n",
            "* Generative AI is expected to become more user-friendly and accessible to non-tech individuals.\n",
            "* AI is expected to be integrated into various industries, leading to transformative changes.\n",
            "* The job market is likely to be impacted by AI, with some jobs becoming obsolete and new ones emerging.\n",
            "* Continued research and development in AI is necessary to further advance the technology.\n",
            "* Ethical and societal implications of AI need to be carefully considered.\u001b[0m\n",
            "\n",
            "\u001b[1m> Finished chain.\u001b[0m\n",
            "\n",
            "[DEBUG]: [Senior Research Analyst] Task output: The advancements in AI in 2024 are expected to be significant, with generative AI becoming more accessible and useful for non-tech individuals. Additionally, the integration of AI into various industries is likely to accelerate, leading to transformative changes in the job market and the way we live and work. These trends underscore the need for continued research and development in AI, as well as careful consideration of the ethical and societal implications of these technologies.\n",
            "\n",
            "This is the summary of your work so far:\n",
            "\n",
            "* Generative AI is expected to become more user-friendly and accessible to non-tech individuals.\n",
            "* AI is expected to be integrated into various industries, leading to transformative changes.\n",
            "* The job market is likely to be impacted by AI, with some jobs becoming obsolete and new ones emerging.\n",
            "* Continued research and development in AI is necessary to further advance the technology.\n",
            "* Ethical and societal implications of AI need to be carefully considered.\n",
            "\n",
            "\n",
            "\n",
            "[DEBUG]: Working Agent: Research Analyst Intern\n",
            "\n",
            "[INFO]: Starting Task: Work along with the researcher and provide necessary help in coming up with insights.\n",
            "    \n",
            "\n",
            "\n",
            "\u001b[1m> Entering new CrewAgentExecutor chain...\u001b[0m\n",
            "\u001b[32;1m\u001b[1;3mThought: Do I need to use a tool? No\n",
            "Final Answer: The advancements in AI in 2024 are expected to be significant, with generative AI becoming more accessible and useful for non-tech individuals. Additionally, the integration of AI into various industries is likely to accelerate, leading to transformative changes in the job market and the way we live and work. These trends underscore the need for continued research and development in AI, as well as careful consideration of the ethical and societal implications of these technologies.\u001b[0m\n",
            "\n",
            "\u001b[1m> Finished chain.\u001b[0m\n",
            "\n",
            "[DEBUG]: [Research Analyst Intern] Task output: The advancements in AI in 2024 are expected to be significant, with generative AI becoming more accessible and useful for non-tech individuals. Additionally, the integration of AI into various industries is likely to accelerate, leading to transformative changes in the job market and the way we live and work. These trends underscore the need for continued research and development in AI, as well as careful consideration of the ethical and societal implications of these technologies.\n",
            "\n",
            "\n",
            "\n",
            "[DEBUG]: Working Agent: Tech Content Strategist\n",
            "\n",
            "[INFO]: Starting Task: Using the insights provied, develop an engaging blog post that highlights the most signigicant AI advancements.\n",
            "    Your post should be informative yet accessible, catering to a tech-savvy audience.\n",
            "    Make it sound awesome, avoid complex words, make is sound like a human-made article.\n",
            "    Your final result MUST be the full blog post of at least 4 paragraphs.\n",
            "    \n",
            "\n",
            "\n",
            "\u001b[1m> Entering new CrewAgentExecutor chain...\u001b[0m\n",
            "\u001b[32;1m\u001b[1;3mThought: Do I need to use a tool? No\n",
            "Final Answer: **Title: Unveiling the Wonders of AI: A Journey through 2024's Transformative Advancements**\n",
            "\n",
            "In the ever-evolving landscape of technology, 2024 promises to be a pivotal year for Artificial Intelligence (AI). As AI's capabilities continue to expand, we are witnessing a new era of innovation and transformation across industries. In this blog post, we will delve into the most significant AI advancements expected to shape our world in the coming year.\n",
            "\n",
            "**1. Generative AI: Unleashing Creativity and Accessibility**\n",
            "\n",
            "Generative AI, a subset of AI that can create new data or content from scratch, is poised to revolutionize the way we interact with technology. From generating realistic images and videos to composing music and writing creative text, generative AI is breaking down barriers and making AI more accessible to non-tech individuals. This democratization of AI has the potential to unleash a wave of creativity and innovation, empowering people from all walks of life to express themselves and contribute to the digital landscape.\n",
            "\n",
            "**2. AI's Integration into Industries: A Catalyst for Change**\n",
            "\n",
            "The integration of AI into various industries is accelerating at an unprecedented pace. From healthcare to finance, manufacturing to retail, AI is transforming the way we work, live, and interact with the world around us. AI-powered systems are automating repetitive tasks, enhancing decision-making, and providing personalized experiences, leading to increased efficiency, productivity, and customer satisfaction. As AI continues to permeate different sectors, we can expect to see even more transformative changes in the years to come.\n",
            "\n",
            "**3. The Evolving Job Market: AI as a Partner, Not a Replacement**\n",
            "\n",
            "The rise of AI has sparked concerns about job displacement and the impact on the workforce. However, experts believe that AI will augment human capabilities rather than replace them. AI systems will take on repetitive and routine tasks, freeing up humans to focus on more creative, strategic, and fulfilling endeavors. This shift will require a reskilling and upskilling of the workforce, but it also presents opportunities for new jobs and industries that leverage AI's capabilities.\n",
            "\n",
            "**4. Ethical and Societal Implications: Navigating the Uncharted Waters**\n",
            "\n",
            "As AI continues to advance, we must carefully consider the ethical and societal implications of these technologies. Issues such as data privacy, algorithmic bias, and the potential for AI systems to be used for malicious purposes require thoughtful consideration and regulation. It is imperative that we develop ethical frameworks and guidelines to ensure that AI is used responsibly and for the benefit of humanity.\n",
            "\n",
            "As we embark on this new chapter in the evolution of AI, it is clear that the possibilities are boundless. From empowering individuals with generative AI to transforming industries and redefining the job market, AI is poised to shape our world in profound ways. As we navigate these advancements, it is crucial that we embrace the opportunities while addressing the challenges, ensuring that AI serves as a force for progress and positive change.\u001b[0m\n",
            "\n",
            "\u001b[1m> Finished chain.\u001b[0m\n",
            "\n",
            "[DEBUG]: [Tech Content Strategist] Task output: **Title: Unveiling the Wonders of AI: A Journey through 2024's Transformative Advancements**\n",
            "\n",
            "In the ever-evolving landscape of technology, 2024 promises to be a pivotal year for Artificial Intelligence (AI). As AI's capabilities continue to expand, we are witnessing a new era of innovation and transformation across industries. In this blog post, we will delve into the most significant AI advancements expected to shape our world in the coming year.\n",
            "\n",
            "**1. Generative AI: Unleashing Creativity and Accessibility**\n",
            "\n",
            "Generative AI, a subset of AI that can create new data or content from scratch, is poised to revolutionize the way we interact with technology. From generating realistic images and videos to composing music and writing creative text, generative AI is breaking down barriers and making AI more accessible to non-tech individuals. This democratization of AI has the potential to unleash a wave of creativity and innovation, empowering people from all walks of life to express themselves and contribute to the digital landscape.\n",
            "\n",
            "**2. AI's Integration into Industries: A Catalyst for Change**\n",
            "\n",
            "The integration of AI into various industries is accelerating at an unprecedented pace. From healthcare to finance, manufacturing to retail, AI is transforming the way we work, live, and interact with the world around us. AI-powered systems are automating repetitive tasks, enhancing decision-making, and providing personalized experiences, leading to increased efficiency, productivity, and customer satisfaction. As AI continues to permeate different sectors, we can expect to see even more transformative changes in the years to come.\n",
            "\n",
            "**3. The Evolving Job Market: AI as a Partner, Not a Replacement**\n",
            "\n",
            "The rise of AI has sparked concerns about job displacement and the impact on the workforce. However, experts believe that AI will augment human capabilities rather than replace them. AI systems will take on repetitive and routine tasks, freeing up humans to focus on more creative, strategic, and fulfilling endeavors. This shift will require a reskilling and upskilling of the workforce, but it also presents opportunities for new jobs and industries that leverage AI's capabilities.\n",
            "\n",
            "**4. Ethical and Societal Implications: Navigating the Uncharted Waters**\n",
            "\n",
            "As AI continues to advance, we must carefully consider the ethical and societal implications of these technologies. Issues such as data privacy, algorithmic bias, and the potential for AI systems to be used for malicious purposes require thoughtful consideration and regulation. It is imperative that we develop ethical frameworks and guidelines to ensure that AI is used responsibly and for the benefit of humanity.\n",
            "\n",
            "As we embark on this new chapter in the evolution of AI, it is clear that the possibilities are boundless. From empowering individuals with generative AI to transforming industries and redefining the job market, AI is poised to shape our world in profound ways. As we navigate these advancements, it is crucial that we embrace the opportunities while addressing the challenges, ensuring that AI serves as a force for progress and positive change.\n",
            "\n",
            "\n"
          ]
        }
      ]
    },
    {
      "cell_type": "code",
      "source": [
        "print(result)"
      ],
      "metadata": {
        "colab": {
          "base_uri": "https://localhost:8080/"
        },
        "id": "kKLdHCwIuFfK",
        "outputId": "ce9a0f39-85bf-4e7d-f4dc-505736bd56b3"
      },
      "execution_count": 22,
      "outputs": [
        {
          "output_type": "stream",
          "name": "stdout",
          "text": [
            "**Title: Unveiling the Wonders of AI: A Journey through 2024's Transformative Advancements**\n",
            "\n",
            "In the ever-evolving landscape of technology, 2024 promises to be a pivotal year for Artificial Intelligence (AI). As AI's capabilities continue to expand, we are witnessing a new era of innovation and transformation across industries. In this blog post, we will delve into the most significant AI advancements expected to shape our world in the coming year.\n",
            "\n",
            "**1. Generative AI: Unleashing Creativity and Accessibility**\n",
            "\n",
            "Generative AI, a subset of AI that can create new data or content from scratch, is poised to revolutionize the way we interact with technology. From generating realistic images and videos to composing music and writing creative text, generative AI is breaking down barriers and making AI more accessible to non-tech individuals. This democratization of AI has the potential to unleash a wave of creativity and innovation, empowering people from all walks of life to express themselves and contribute to the digital landscape.\n",
            "\n",
            "**2. AI's Integration into Industries: A Catalyst for Change**\n",
            "\n",
            "The integration of AI into various industries is accelerating at an unprecedented pace. From healthcare to finance, manufacturing to retail, AI is transforming the way we work, live, and interact with the world around us. AI-powered systems are automating repetitive tasks, enhancing decision-making, and providing personalized experiences, leading to increased efficiency, productivity, and customer satisfaction. As AI continues to permeate different sectors, we can expect to see even more transformative changes in the years to come.\n",
            "\n",
            "**3. The Evolving Job Market: AI as a Partner, Not a Replacement**\n",
            "\n",
            "The rise of AI has sparked concerns about job displacement and the impact on the workforce. However, experts believe that AI will augment human capabilities rather than replace them. AI systems will take on repetitive and routine tasks, freeing up humans to focus on more creative, strategic, and fulfilling endeavors. This shift will require a reskilling and upskilling of the workforce, but it also presents opportunities for new jobs and industries that leverage AI's capabilities.\n",
            "\n",
            "**4. Ethical and Societal Implications: Navigating the Uncharted Waters**\n",
            "\n",
            "As AI continues to advance, we must carefully consider the ethical and societal implications of these technologies. Issues such as data privacy, algorithmic bias, and the potential for AI systems to be used for malicious purposes require thoughtful consideration and regulation. It is imperative that we develop ethical frameworks and guidelines to ensure that AI is used responsibly and for the benefit of humanity.\n",
            "\n",
            "As we embark on this new chapter in the evolution of AI, it is clear that the possibilities are boundless. From empowering individuals with generative AI to transforming industries and redefining the job market, AI is poised to shape our world in profound ways. As we navigate these advancements, it is crucial that we embrace the opportunities while addressing the challenges, ensuring that AI serves as a force for progress and positive change.\n"
          ]
        }
      ]
    },
    {
      "cell_type": "code",
      "source": [],
      "metadata": {
        "id": "OzuDxIPo26qY"
      },
      "execution_count": null,
      "outputs": []
    }
  ]
}