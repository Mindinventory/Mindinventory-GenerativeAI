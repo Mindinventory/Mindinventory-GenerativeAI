{
  "nbformat": 4,
  "nbformat_minor": 0,
  "metadata": {
    "colab": {
      "provenance": [],
      "gpuType": "T4"
    },
    "kernelspec": {
      "name": "python3",
      "display_name": "Python 3"
    },
    "language_info": {
      "name": "python"
    },
    "accelerator": "GPU"
  },
  "cells": [
    {
      "cell_type": "markdown",
      "source": [
        "Document: \"https://catalogue.unccd.int/1200_GlobalGoalsComic.pdf\""
      ],
      "metadata": {
        "id": "HfhdG_MiuY9U"
      }
    },
    {
      "cell_type": "code",
      "execution_count": null,
      "metadata": {
        "id": "NYDKRA4n1NRa"
      },
      "outputs": [],
      "source": [
        "!pip install transformers sentence-transformers -q"
      ]
    },
    {
      "cell_type": "code",
      "source": [
        "!pip install llama-index langchain pypdf -q"
      ],
      "metadata": {
        "id": "1Mo-ytGF1xCH"
      },
      "execution_count": null,
      "outputs": []
    },
    {
      "cell_type": "code",
      "source": [
        "!CMAKE_ARGS=\"-DLLAMA_CUBLAS=on\" FORCE_CMAKE=1 pip install llama-cpp-python --no-cache-dir -q"
      ],
      "metadata": {
        "id": "mpVv4ox214o6"
      },
      "execution_count": null,
      "outputs": []
    },
    {
      "cell_type": "code",
      "source": [
        "from llama_index import VectorStoreIndex, SimpleDirectoryReader, ServiceContext\n",
        "from llama_index.llms import LlamaCPP\n",
        "from llama_index.llms.llama_utils import messages_to_prompt, completion_to_prompt\n",
        "import torch\n",
        "from langchain.embeddings.huggingface import HuggingFaceEmbeddings\n",
        "from llama_index import ServiceContext\n",
        "from llama_index.embeddings import LangchainEmbedding"
      ],
      "metadata": {
        "id": "PfsFYyH92Pbr"
      },
      "execution_count": null,
      "outputs": []
    },
    {
      "cell_type": "code",
      "source": [
        "documents= SimpleDirectoryReader(\"/content/\").load_data()"
      ],
      "metadata": {
        "id": "_1aem3r84FhN"
      },
      "execution_count": null,
      "outputs": []
    },
    {
      "cell_type": "code",
      "source": [
        "llm= LlamaCPP(\n",
        "    model_url= \"https://huggingface.co/TheBloke/Mistral-7B-Instruct-v0.1-GGUF/resolve/main/mistral-7b-instruct-v0.1.Q4_K_M.gguf\",\n",
        "    model_path= None,\n",
        "    temperature= 0.1,\n",
        "    max_new_tokens= 256,\n",
        "    context_window= 4096,\n",
        "    generate_kwargs= {},\n",
        "    model_kwargs= {'n_gpu_layers': -1},\n",
        "    messages_to_prompt= messages_to_prompt,\n",
        "    completion_to_prompt= completion_to_prompt,\n",
        "    verbose= True\n",
        ")"
      ],
      "metadata": {
        "colab": {
          "base_uri": "https://localhost:8080/"
        },
        "id": "IN2xyBoP6JSY",
        "outputId": "6ad6ef6a-8070-40c1-fc4e-4a49b1c1bcbe"
      },
      "execution_count": null,
      "outputs": [
        {
          "output_type": "stream",
          "name": "stderr",
          "text": [
            "AVX = 1 | AVX_VNNI = 0 | AVX2 = 1 | AVX512 = 1 | AVX512_VBMI = 0 | AVX512_VNNI = 0 | FMA = 1 | NEON = 0 | ARM_FMA = 0 | F16C = 1 | FP16_VA = 0 | WASM_SIMD = 0 | BLAS = 1 | SSE3 = 1 | SSSE3 = 1 | VSX = 0 | \n"
          ]
        }
      ]
    },
    {
      "cell_type": "code",
      "source": [
        "embed_model= LangchainEmbedding(\n",
        "    HuggingFaceEmbeddings(model_name= 'thenlper/gte-large')\n",
        ")"
      ],
      "metadata": {
        "id": "AfyNthpO7Y9X"
      },
      "execution_count": null,
      "outputs": []
    },
    {
      "cell_type": "code",
      "source": [
        "service_context= ServiceContext.from_defaults(\n",
        "    chunk_size= 256,\n",
        "    llm= llm,\n",
        "    embed_model= embed_model\n",
        ")\n",
        "\n",
        "index= VectorStoreIndex.from_documents(\n",
        "    documents,\n",
        "    service_context= service_context\n",
        ")\n",
        "\n",
        "query_engine= index.as_query_engine()\n",
        "\n",
        "while True:\n",
        "  query=input()\n",
        "  if query== '-1':\n",
        "    break\n",
        "  response = query_engine.query(query)\n",
        "  print(response)"
      ],
      "metadata": {
        "colab": {
          "base_uri": "https://localhost:8080/"
        },
        "id": "sR8J6EWb7xmr",
        "outputId": "fceee871-0e67-48a5-8400-534aad7fdbea"
      },
      "execution_count": null,
      "outputs": [
        {
          "name": "stdout",
          "output_type": "stream",
          "text": [
            "What are the 17 goals?\n",
            " The 17 Sustainable Development Goals (SDGs) are a universal call to action to end poverty, protect the planet and ensure that all people enjoy peace and prosperity by the year 2030. They were adopted by all United Nations Member States in 2015 as part of the 2030 Agenda for Sustainable Development. The SDGs are integrated and indivisible, and balance the three dimensions of sustainable development: economic, social and environmental.\n",
            "\n",
            "The 17 goals are:\n",
            "\n",
            "1. No Poverty\n",
            "2. Zero Hunger\n",
            "3. Good Health and Well-being\n",
            "4. Quality Education\n",
            "5. Gender Equality\n",
            "6. Clean Water and Sanitation\n",
            "7. Affordable and Clean Energy\n",
            "8. Decent Work and Economic Growth\n",
            "9. Industry, Innovation and Infrastructure\n",
            "10. Reduced Inequalities\n",
            "11. Sustainable Cities and Communities\n",
            "12. Responsible Consumption and Production\n",
            "13. Climate Action\n",
            "14. Life Below Water\n",
            "15. Life On Land\n",
            "16. Peace, Justice and Strong Institutions\n",
            "17. Part\n",
            "How to achieve goal 16?\n"
          ]
        },
        {
          "output_type": "stream",
          "name": "stderr",
          "text": [
            "Llama.generate: prefix-match hit\n"
          ]
        },
        {
          "name": "stdout",
          "output_type": "stream",
          "text": [
            " To achieve Goal 16, which is \"Peace, Justice and Strong Institutions,\" there are several steps that can be taken. Firstly, it is important to promote peaceful conflict resolution and prevent violence through education and awareness-raising campaigns. Additionally, efforts should be made to strengthen the rule of law and promote transparency and accountability in governance. This can be achieved by implementing effective legal frameworks and ensuring that justice systems are accessible and fair for all. Finally, it is important to invest in community development programs and empower marginalized groups to participate in decision-making processes. By taking these steps, we can work towards a more peaceful and just world.\n",
            "How to achieve goal 17?\n"
          ]
        },
        {
          "output_type": "stream",
          "name": "stderr",
          "text": [
            "Llama.generate: prefix-match hit\n"
          ]
        },
        {
          "name": "stdout",
          "output_type": "stream",
          "text": [
            " To achieve Goal 17, which is \"Partnerships for the Goals,\" it is important to work collaboratively with others towards a common goal. This can involve partnerships between governments, businesses, civil society organizations, and individuals. It also involves working together to share knowledge, resources, and best practices in order to achieve progress towards the Sustainable Development Goals (SDGs). Additionally, it is important to engage in dialogue and communication with stakeholders from different backgrounds and perspectives in order to build trust and understanding.\n",
            "How to achieve Goal 20?\n"
          ]
        },
        {
          "output_type": "stream",
          "name": "stderr",
          "text": [
            "Llama.generate: prefix-match hit\n"
          ]
        },
        {
          "name": "stdout",
          "output_type": "stream",
          "text": [
            " To achieve Goal 20, which is \"Reduce Inequalities,\" there are several steps that can be taken. Firstly, it's important to address systemic inequalities and work towards creating a more equitable society. This can involve policies such as progressive taxation, affirmative action, and social safety nets. Additionally, efforts should be made to promote gender equality, racial justice, and access to education and economic opportunities for all. It's also important to address the root causes of inequality, such as poverty, discrimination, and lack of access to resources. Finally, it's crucial to measure and track progress towards achieving Goal 20, and to hold governments and institutions accountable for their actions.\n",
            "what is the 20th goal?\n"
          ]
        },
        {
          "output_type": "stream",
          "name": "stderr",
          "text": [
            "Llama.generate: prefix-match hit\n"
          ]
        },
        {
          "name": "stdout",
          "output_type": "stream",
          "text": [
            " Based on the provided context information, it appears that there is no page labeled as \"20\" in the file \"/content/GlobalGoalsComic.pdf\". Therefore, I cannot provide an answer to your query.\n",
            "-1\n"
          ]
        }
      ]
    },
    {
      "cell_type": "code",
      "source": [],
      "metadata": {
        "id": "jjym4wTp89rt"
      },
      "execution_count": null,
      "outputs": []
    }
  ]
}